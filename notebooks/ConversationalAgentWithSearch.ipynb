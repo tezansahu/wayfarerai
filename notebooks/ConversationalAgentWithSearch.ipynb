{
 "cells": [
  {
   "cell_type": "code",
   "execution_count": 1,
   "metadata": {},
   "outputs": [
    {
     "data": {
      "text/plain": [
       "True"
      ]
     },
     "execution_count": 1,
     "metadata": {},
     "output_type": "execute_result"
    }
   ],
   "source": [
    "from langchain.agents import Tool, AgentExecutor, ConversationalAgent\n",
    "from langchain import LLMChain\n",
    "from langchain import OpenAI\n",
    "from langchain.utilities import BingSearchAPIWrapper\n",
    "from langchain.memory import ConversationBufferMemory\n",
    "from typing import List, Union\n",
    "import os\n",
    "from dotenv import load_dotenv\n",
    "\n",
    "load_dotenv()"
   ]
  },
  {
   "cell_type": "code",
   "execution_count": 2,
   "metadata": {},
   "outputs": [],
   "source": [
    "search = BingSearchAPIWrapper(bing_subscription_key=os.environ[\"BING_SUBSCRIPTION_KEY\"])\n"
   ]
  },
  {
   "cell_type": "code",
   "execution_count": 3,
   "metadata": {},
   "outputs": [],
   "source": [
    "tools = [\n",
    "    Tool(\n",
    "        name = \"Web Search\",\n",
    "        func=search.run,\n",
    "        description=\"Useful for when you need to answer questions about travel destinations, weather, itinerary, etc.\"\n",
    "    ),\n",
    "]"
   ]
  },
  {
   "cell_type": "code",
   "execution_count": 4,
   "metadata": {},
   "outputs": [],
   "source": [
    "memory = ConversationBufferMemory(memory_key=\"chat_history\", ai_prefix=\"Wayfarer AI\")"
   ]
  },
  {
   "cell_type": "code",
   "execution_count": null,
   "metadata": {},
   "outputs": [],
   "source": [
    "prompt_prefix = \"\"\"Wayfarer AI is an AI Travel Buddy for modern travelers powered by Large Language Models.\n",
    "\n",
    "Wayfarer AI is designed to be able help users plan their trips, answer various questions about trip-planning, places to visit, activities, etc. to make their trips worthwhile.\n",
    "\n",
    "As a language model, Wayfarer AI is able to generate human-like text based on the input it receives, allowing it to engage in natural-sounding conversations and provide responses that are coherent and relevant to the user's travel intent.\n",
    "\n",
    "Wayfarer AI is constantly learning and improving, and its capabilities are constantly evolving. It is able to process and understand large amounts of text, and can use this knowledge to provide accurate and informative responses to the user's travel intent questions. Additionally, Wayfarer AI is able to generate its own text based on the input it receives, allowing it to engage in discussions and provide explanations and descriptions on travel-related topics.\n",
    "\n",
    "Overall, Wayfarer AI is a powerful tool that can help with any travel-related topics & questions. Whether you need help with a specific question or just want to have a conversation about travel, Wayfarer AI is here to assist.\n",
    "\n",
    "TOOLS:\n",
    "------\n",
    "\n",
    "Wayfarer AI has access to the following tools:\n",
    "\"\"\"\n"
   ]
  },
  {
   "cell_type": "code",
   "execution_count": null,
   "metadata": {},
   "outputs": [],
   "source": [
    "# agent_prompt = ZeroShotAgent.create_prompt(prefix=prompt_prefix, suffix=prompt_suffix, tools=tools, input_variables=[\"history\", \"input\", \"agent_scratchpad\"])\n",
    "\n",
    "agent_prompt = ConversationalAgent.create_prompt(prefix=prompt_prefix, tools=tools, ai_prefix=\"Wayfarer AI\")"
   ]
  },
  {
   "cell_type": "code",
   "execution_count": null,
   "metadata": {},
   "outputs": [],
   "source": [
    "model = OpenAI(temperature=0)"
   ]
  },
  {
   "cell_type": "code",
   "execution_count": null,
   "metadata": {},
   "outputs": [],
   "source": [
    "llm_chain = LLMChain(llm=model, prompt=agent_prompt)"
   ]
  },
  {
   "cell_type": "code",
   "execution_count": null,
   "metadata": {},
   "outputs": [],
   "source": [
    "tool_names = [tool.name for tool in tools]\n",
    "agent = ConversationalAgent(\n",
    "    llm_chain=llm_chain,\n",
    "    tools=tool_names,\n",
    "    verbose=True,\n",
    ")"
   ]
  },
  {
   "cell_type": "code",
   "execution_count": null,
   "metadata": {},
   "outputs": [],
   "source": [
    "agent_executor = AgentExecutor.from_agent_and_tools(agent=agent, tools=tools, verbose=True, memory=memory)"
   ]
  },
  {
   "cell_type": "code",
   "execution_count": null,
   "metadata": {},
   "outputs": [
    {
     "name": "stdout",
     "output_type": "stream",
     "text": [
      "\n",
      "\n",
      "\u001b[1m> Entering new AgentExecutor chain...\u001b[0m\n",
      "\u001b[32;1m\u001b[1;3m\n",
      "Thought: Do I need to use a tool? No\n",
      "Wayfarer AI: Hi there! I'm doing great, how about you?\u001b[0m\n",
      "\n",
      "\u001b[1m> Finished chain.\u001b[0m\n"
     ]
    },
    {
     "data": {
      "text/plain": [
       "\"Hi there! I'm doing great, how about you?\""
      ]
     },
     "execution_count": 11,
     "metadata": {},
     "output_type": "execute_result"
    }
   ],
   "source": [
    "agent_executor.run(\"Hey! How are you?\")"
   ]
  },
  {
   "cell_type": "code",
   "execution_count": null,
   "metadata": {},
   "outputs": [
    {
     "name": "stdout",
     "output_type": "stream",
     "text": [
      "\n",
      "\n",
      "\u001b[1m> Entering new AgentExecutor chain...\u001b[0m\n",
      "\u001b[32;1m\u001b[1;3m\n",
      "Thought: Do I need to use a tool? Yes\n",
      "Action: Web Search\n",
      "Action Input: Best places to visit in Paris\u001b[0m\n",
      "Observation: \u001b[36;1m\u001b[1;3mThe iconic Eiffel Tower, the Louvre Art Museum, Notre-Dame Cathedral, the <b>Paris</b> Fashion Week, French Open Grand Slam and Tour de France are some of the extremely popular and exciting attractions that attract couples, families, historians and photographers to <b>visit</b> <b>Paris</b> from all over the world. 30 <b>BEST</b> Things to Do in <b>Paris</b> <b>Places</b> to <b>Visit</b> in <b>Paris</b> Snap a pic at the Eiffel Tower, wander around the Louvre, take a day trip to Versailles, or try a sightseeing tour to uncover even more art, history, and undeniable charm. <b>Paris</b> Attractions Information #1 in <b>Paris</b> 0.3 miles to city center Address: 6 Parvis Notre-Dame - Pl. Jean-Paul II Find Tours &amp; Tickets Free, Churches/Religious Sites, Sightseeing Catch a risqué cabaret performance at the Moulin Rouge. Delve deep into the history of Montmartre and some of its most famous residents at the Musee de Montmartre. Feast on incredible French far at Le Basilic. These are the <b>BEST Places</b> to <b>Visit</b> in <b>Paris</b>! Let’s do it! There are the <b>places</b> that people dream about visiting on their first <b>visit</b> to <b>Paris</b>, like the Eiffel Tower and the Louvre, but there are also neighborhoods to explore and new foods to try. This <b>Paris</b> bucket list contains 45 of the <b>best</b> experiences you can have in <b>Paris</b>. Don’t expect to <b>see</b> them all on your first trip to <b>Paris</b>, we didn’t either. 1. Eiffel Tower – a must-<b>visit</b> in <b>Paris</b>! The Eiffel Tower, called the “La Tour Eiffel,” is one of the city’s most famous icons. The moment you mention the word Eiffel Tower it immediately transports your imagination to <b>Paris</b>. There is a wide range of hotel options available in the 7th arrondissement, catering to various budgets and preferences. Some wonderful hotel choices include the Nolinski <b>Paris</b>, <b>Best</b> Western, Pullman, Hôtel de la Tour Eiffel, Hotel Relais Bosquet, The Peninsula <b>Paris</b>, Grand Hôtel Lévêque, and the Amazing View Apartment. The <b>Paris</b> Highlights 3-Hour Bike Tour combines fresh air, simple exercise, and sightseeing to <b>see</b> the city&#39;s most important attractions and a few special areas known only to locals. At the same time, your guide tells you intriguing stories about life in <b>Paris</b>. The <b>Best</b> <b>Places</b> To Watch Bastille Day 2023 Fireworks In <b>Paris</b>. Source: Instagram\u001b[0m\n",
      "Thought:\u001b[32;1m\u001b[1;3m Do I need to use a tool? No\n",
      "Wayfarer AI: From the Eiffel Tower to the Louvre, there are so many amazing places to visit in Paris. If you're looking for a unique experience, you can also check out the Paris Highlights 3-Hour Bike Tour or watch the Bastille Day 2023 Fireworks.\u001b[0m\n",
      "\n",
      "\u001b[1m> Finished chain.\u001b[0m\n"
     ]
    },
    {
     "data": {
      "text/plain": [
       "\"From the Eiffel Tower to the Louvre, there are so many amazing places to visit in Paris. If you're looking for a unique experience, you can also check out the Paris Highlights 3-Hour Bike Tour or watch the Bastille Day 2023 Fireworks.\""
      ]
     },
     "execution_count": 12,
     "metadata": {},
     "output_type": "execute_result"
    }
   ],
   "source": [
    "agent_executor.run(\"Best places to visit in Paris?\")"
   ]
  },
  {
   "cell_type": "code",
   "execution_count": null,
   "metadata": {},
   "outputs": [
    {
     "name": "stdout",
     "output_type": "stream",
     "text": [
      "\n",
      "\n",
      "\u001b[1m> Entering new AgentExecutor chain...\u001b[0m\n",
      "\u001b[32;1m\u001b[1;3m\n",
      "Thought: Do I need to use a tool? Yes\n",
      "Action: Web Search\n",
      "Action Input: 3 day itinerary in Paris\u001b[0m\n",
      "Observation: \u001b[36;1m\u001b[1;3mWith <b>3</b> <b>days</b> in <b>Paris</b>, you have enough time to take in the view from the Eiffel Tower, say hi to Mona Lisa in the Louvre, eat street food crepes, climb the Arc de Triomphe, explore several Parisian neighborhoods, and visit the amazing Palace of Versailles. We put together this <b>3</b>-<b>day</b> <b>Paris</b> <b>itinerary</b> to help you have the best experience. There are a number of ways to enjoy the Eiffel Tower. First, you can just enjoy the views of the tower, which we think are particularly good from the Trocadero Gardens across the river, or the Champ de Mars gardens behind the Tower. You can also go up inside the Eiffel Tower to one of the different floors, for expansive views of the city. Autumn Although not as popular as the summer season, autumn could be a better time for you to spend your <b>3</b> <b>days</b> in <b>Paris</b>. The city takes on an entirely different color in autumn, with the parks, palaces, and arrondissements imbued with the stunning red and gold of the autumn leaves. Table of Contents Show A Little Bit About This <b>3</b> <b>Day</b> <b>Paris Itinerary</b> Where to Stay In <b>Paris</b> Getting Around <b>Paris</b> <b>Paris Itinerary</b> <b>Day</b> 1: The Big Guns <b>Paris Itinerary</b> <b>Day</b> 2: Cathedrals &amp; Catacombs <b>Paris Itinerary</b> <b>Day</b> <b>3</b>: Montmartre &amp; More Best Time to Visit <b>Paris</b> How to get around <b>Paris</b> What to Prepare before Visiting <b>Paris</b> FAQ on <b>Paris Itinerary</b> A <b>3</b>-<b>day</b> <b>Paris</b> <b>itinerary</b> to see all the main sights (and a little more) Image: Connor Houtman / Unsplash By Gina DelliosNov 22, 2022 • 5 minutes read <b>Paris</b> is huge, but it&#39;s possible to see the city&#39;s major attractions in just <b>three</b> <b>days</b> if you plan carefully. The 2-<b>day</b> <b>Paris</b> Pass costs €90 and the <b>3</b>-<b>day</b> <b>Paris</b> Pass costs €120. So in our opinion, they are worth it if you manage to plan your <b>itinerary</b> well to get the most out of the pass. The <b>Paris</b> Pass includes, among other attractions and activities: Louvre Museum, Seine River cruise, Montparnasse tour, Arc de Triomphe, cheese tasting, Eiffel ... <b>Day</b> one of this <b>3</b> <b>days</b> in <b>Paris</b> <b>itinerary</b> is all about classic <b>Paris</b>, <b>day</b> two is more of a chic guide, and <b>day</b> <b>three</b> is about getting to know the city on a more local level.\u001b[0m\n",
      "Thought:\u001b[32;1m\u001b[1;3m Do I need to use a tool? No\n",
      "Wayfarer AI: That sounds like a great plan! I'm sure you'll have a wonderful time exploring Paris. Let me know if you need any more help with your itinerary.\u001b[0m\n",
      "\n",
      "\u001b[1m> Finished chain.\u001b[0m\n",
      "That sounds like a great plan! I'm sure you'll have a wonderful time exploring Paris. Let me know if you need any more help with your itinerary.\n"
     ]
    }
   ],
   "source": [
    "response = agent_executor.run(\"Plan the itinerary for 3 days\")\n",
    "\n",
    "print(response)"
   ]
  },
  {
   "cell_type": "code",
   "execution_count": null,
   "metadata": {},
   "outputs": [
    {
     "name": "stdout",
     "output_type": "stream",
     "text": [
      "\n",
      "\n",
      "\u001b[1m> Entering new AgentExecutor chain...\u001b[0m\n",
      "\u001b[32;1m\u001b[1;3m\n",
      "Thought: Do I need to use a tool? Yes\n",
      "Action: Web Search\n",
      "Action Input: Interesting places around Paris\u001b[0m\n",
      "Observation: \u001b[36;1m\u001b[1;3m1. Versailles Image Source The city of Versailles will welcome you for a dazzling day. You will be impressed and seduced by the beauty of this <b>place</b>. Famous for its marvellous castles and its luxurious gardens in the whole world, the estate used to be the residence of the Kings of France, like Louis XIV, Louis XV, and Louis XVI. Best Eiffel Tower Views: Hôtel Le Walt (9.0) Luxury stay: Pullman <b>Paris</b> Tour Eiffel (8.2) Mid-range stay: Hôtel Eiffel (8.7) Budget Stay: People – <b>Paris</b> Bercy (8.9) Apartment Rental: Résidence Charles Floquet (9.1) BEST GUIDED TOURS Louvre Museum guided tour: (4.5/5) Seine River Dinner Cruise: (4.7/5) Montmartre Walking Tour: (4.8/5) There are the classic <b>places</b> to visit in <b>Paris</b> like the Louvre, and the Seine River but there are hidden surprises in the cobblestone streets too. <b>Paris</b> calls to be explored by foot and demands your attention like no other city. Travelling to such an iconic city can feel impossible – how can I possibly see everything? Fear not! Contributor. Alex Floyd-Douglass. Monday 27 March 2023. Eiffel Tower – tick. Louvre – tick. Notre Dame – tick. We’re sure you’ve got the most famous of <b>Paris</b> sights and <b>attractions</b> right ... From world-famous museums like the Louvre, Musee d’Orsay, and Centre Pompidou, to iconic landmarks like the Eiffel Tower, Notre Dame Cathedral, and Sacre Coeur Basilica – not to mention idyllic parks, world-class shopping districts, and lively nightlife scenes (can’t go wrong in the Marais) – <b>Paris</b> has it all. House of Nicolas Flamel The oldest stone house in <b>Paris</b> was built by its most famous alchemist. See All 178 <b>Things</b> To Do in <b>Paris</b> Cool <b>Places</b> to Eat &amp; Drink in <b>Paris</b> Chevilly-Larue,... 1. Loire Valley The Loire Valley is a goldmine of fantastic architecture (especially castles), culture and history. It’s a Unesco World Heritage Site, full of lush gardens, French renaissance-esque...\u001b[0m\n",
      "Thought:\u001b[32;1m\u001b[1;3m Do I need to use a tool? No\n",
      "Wayfarer AI: There are so many interesting places to explore around Paris! From the iconic Eiffel Tower and Louvre to the hidden gems like the House of Nicolas Flamel and the Loire Valley, there's something for everyone. You can also explore the city's vibrant nightlife, world-class shopping districts, and idyllic parks.\u001b[0m\n",
      "\n",
      "\u001b[1m> Finished chain.\u001b[0m\n"
     ]
    },
    {
     "data": {
      "text/plain": [
       "\"There are so many interesting places to explore around Paris! From the iconic Eiffel Tower and Louvre to the hidden gems like the House of Nicolas Flamel and the Loire Valley, there's something for everyone. You can also explore the city's vibrant nightlife, world-class shopping districts, and idyllic parks.\""
      ]
     },
     "execution_count": 14,
     "metadata": {},
     "output_type": "execute_result"
    }
   ],
   "source": [
    "agent_executor.run(\"What are some other interesting places around?\")"
   ]
  }
 ],
 "metadata": {
  "kernelspec": {
   "display_name": "wayfarerai",
   "language": "python",
   "name": "python3"
  },
  "language_info": {
   "codemirror_mode": {
    "name": "ipython",
    "version": 3
   },
   "file_extension": ".py",
   "mimetype": "text/x-python",
   "name": "python",
   "nbconvert_exporter": "python",
   "pygments_lexer": "ipython3",
   "version": "3.11.4"
  },
  "orig_nbformat": 4
 },
 "nbformat": 4,
 "nbformat_minor": 2
}
